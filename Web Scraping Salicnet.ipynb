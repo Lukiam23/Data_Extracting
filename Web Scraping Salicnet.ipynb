{
 "cells": [
  {
   "cell_type": "code",
   "execution_count": 1,
   "id": "1b5384aa",
   "metadata": {},
   "outputs": [],
   "source": [
    "from bs4 import BeautifulSoup\n",
    "import csv\n",
    "from getpass import getpass\n",
    "from msedge.selenium_tools import Edge,EdgeOptions\n",
    "import pandas as pd\n",
    "from selenium.webdriver.common.by import By\n",
    "from selenium.webdriver.common.keys import Keys\n",
    "from selenium.common.exceptions import     NoSuchElementException\n",
    "from selenium.webdriver.support import expected_conditions as EC\n",
    "from selenium.webdriver.support.ui import Select, WebDriverWait\n",
    "from tqdm import tqdm\n",
    "from time import sleep"
   ]
  },
  {
   "cell_type": "code",
   "execution_count": 46,
   "id": "ea9c8136",
   "metadata": {},
   "outputs": [],
   "source": [
    "options = EdgeOptions()\n",
    "options.use_chromium = True\n",
    "driver = Edge(options=options)\n",
    "\n",
    "def access_script(driver, select):\n",
    "    driver.find_element_by_link_text('Comparativos').click()\n",
    "    driver.find_element_by_link_text('Quantitativos').click()\n",
    "    driver.find_element_by_link_text('Mecenato').click()\n",
    "    driver.find_element_by_link_text(select).click()\n",
    "    driver.find_element_by_link_text('Por ano, região, uf, área e segmento cultural').click()\n",
    "    element1 = driver.find_element_by_xpath('//img[@alt=\"Ministério da Cultura\"]')\n",
    "    hov1 = ActionChains(driver).move_to_element(element1)\n",
    "    hov1.perform()\n",
    "    \n",
    "def extract_data(driver):\n",
    "    frame = driver.find_element_by_name('Salicnet_iframe')\n",
    "    driver.switch_to.frame(frame)\n",
    "    \n",
    "    wait = WebDriverWait(driver, 60)\n",
    "    wait.until(EC.visibility_of_element_located((By.XPATH, '//input[@name=\"sub_form\"]')))\n",
    "\n",
    "    driver.execute_script('document.getElementById(\"sub_formb\").click()')\n",
    "    \n",
    "    #Pegar a tabela que contém os dados desejados\n",
    "    html=driver.page_source\n",
    "    soup=BeautifulSoup(html,'html.parser')\n",
    "    tables=soup.findAll(\"table\")\n",
    "    driver.switch_to.default_content()\n",
    "    return tables[5]\n",
    "\n",
    "def table_to_dataframe(data, desc):\n",
    "    table=pd.read_html(str(data), header = 0)\n",
    "    \n",
    "    #dataframe da tabela com os dados\n",
    "    df = table[0]\n",
    "    \n",
    "    #Criando uma couluna para identificar os dados de projetos já apresentados\n",
    "    df['Tipo'] = desc\n",
    "    \n",
    "    #Substituindo todos os NaN por 0\n",
    "    df = df.fillna(0)\n",
    "    \n",
    "    return df\n",
    "\n",
    "#Ir para tela inicial \n",
    "driver.get('http://sistemas.cultura.gov.br/salicnet/Salicnet/Salicnet.php')\n",
    "\n",
    "#Pegar os dados de projetos já apresentados\n",
    "access_script(driver, 'De projetos apresentados')\n",
    "\n",
    "#Pegar a tabela que contém os dados\n",
    "data1 = extract_data(driver)\n",
    "\n",
    "df_apresentados = table_to_dataframe(data1, \"Apresentados\")\n",
    "\n",
    "#Pegar os dados de projetos já aprovados\n",
    "access_script(driver, 'De projetos aprovados')\n",
    "\n",
    "#Pegar a tabela que contém os dados\n",
    "data2 = extract_data(driver)\n",
    "\n",
    "df_aprovados = table_to_dataframe(data2, \"Aprovados\")\n"
   ]
  },
  {
   "cell_type": "code",
   "execution_count": 109,
   "id": "0a4fc9e4",
   "metadata": {},
   "outputs": [],
   "source": [
    "df_concated = pd.concat([df_aprovados,df_apresentados],axis = 0)"
   ]
  },
  {
   "cell_type": "code",
   "execution_count": 167,
   "id": "69b6c929",
   "metadata": {},
   "outputs": [],
   "source": [
    "newHeader = {}\n",
    "\n",
    "for i in df_aprovados.columns[1:31]:\n",
    "    newHeader[i] = i.replace('.','')\n"
   ]
  },
  {
   "cell_type": "code",
   "execution_count": 156,
   "id": "80ccc7bc",
   "metadata": {},
   "outputs": [],
   "source": [
    "df_concated.rename(columns = newHeader, inplace = True)"
   ]
  },
  {
   "cell_type": "code",
   "execution_count": 159,
   "id": "f3cdfe7d",
   "metadata": {},
   "outputs": [],
   "source": [
    "df_concated.to_csv(\"projetos_lei_rouanet.csv\")"
   ]
  },
  {
   "cell_type": "markdown",
   "id": "1c0bbbc3",
   "metadata": {},
   "source": [
    " ### Passo a passo"
   ]
  },
  {
   "cell_type": "code",
   "execution_count": null,
   "id": "96f0e74c",
   "metadata": {},
   "outputs": [],
   "source": [
    "#Primeiro Criamos uma instância do web driver\n",
    "options = EdgeOptions()\n",
    "options.use_chromium = True\n",
    "driver = Edge(options=options)"
   ]
  },
  {
   "cell_type": "code",
   "execution_count": null,
   "id": "b875b320",
   "metadata": {},
   "outputs": [],
   "source": [
    "#Ir para tela inicial \n",
    "driver.get('http://sistemas.cultura.gov.br/salicnet/Salicnet/Salicnet.php')"
   ]
  },
  {
   "cell_type": "code",
   "execution_count": null,
   "id": "a01b2b64",
   "metadata": {},
   "outputs": [],
   "source": [
    "#Nevagar na página até chegar na página com relatórios desejados\n",
    "driver.find_element_by_link_text('Comparativos').click()\n",
    "driver.find_element_by_link_text('Quantitativos').click()\n",
    "driver.find_element_by_link_text('Mecenato').click()\n",
    "driver.find_element_by_link_text('De projetos apresentados').click()\n",
    "driver.find_element_by_link_text('Por ano, região, uf, área e segmento cultural').click()\n",
    "element1 = driver.find_element_by_xpath('//img[@alt=\"Ministério da Cultura\"]')\n",
    "hov1 = ActionChains(driver).move_to_element(element1)\n",
    "hov1.perform()\n",
    "\n",
    "frame = driver.find_element_by_name('Salicnet_iframe')\n",
    "driver.switch_to.frame(frame)\n",
    "\n",
    "wait = WebDriverWait(driver, 60)\n",
    "wait.until(EC.visibility_of_element_located((By.XPATH, '//input[@name=\"sub_form\"]')))\n",
    "\n",
    "driver.execute_script('document.getElementById(\"sub_formb\").click()')"
   ]
  },
  {
   "cell_type": "code",
   "execution_count": null,
   "id": "a6763410",
   "metadata": {},
   "outputs": [],
   "source": [
    "#Pegar a tabela que contém os dados desejados\n",
    "html=driver.page_source\n",
    "soup=BeautifulSoup(html,'html.parser')\n",
    "tables=soup.findAll(\"table\")\n",
    "driver.switch_to.default_content()"
   ]
  },
  {
   "cell_type": "code",
   "execution_count": null,
   "id": "ed26f49b",
   "metadata": {},
   "outputs": [],
   "source": [
    "table=pd.read_html(str(tables[5]), header = 0)"
   ]
  },
  {
   "cell_type": "code",
   "execution_count": null,
   "id": "1ec12c92",
   "metadata": {},
   "outputs": [],
   "source": [
    "#dataframe da tabela com os dados\n",
    "df = table[0]\n",
    "\n",
    "#Criando uma couluna para identificar os dados de projetos já apresentados\n",
    "df['Tipo'] = desc\n",
    "\n",
    "#Substituindo todos os NaN por 0\n",
    "df = df.fillna(0)\n",
    "    "
   ]
  }
 ],
 "metadata": {
  "kernelspec": {
   "display_name": "Python 3 (ipykernel)",
   "language": "python",
   "name": "python3"
  },
  "language_info": {
   "codemirror_mode": {
    "name": "ipython",
    "version": 3
   },
   "file_extension": ".py",
   "mimetype": "text/x-python",
   "name": "python",
   "nbconvert_exporter": "python",
   "pygments_lexer": "ipython3",
   "version": "3.8.12"
  }
 },
 "nbformat": 4,
 "nbformat_minor": 5
}
