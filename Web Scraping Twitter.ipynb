{
 "cells": [
  {
   "cell_type": "code",
   "execution_count": 17,
   "id": "492ea7b8",
   "metadata": {},
   "outputs": [
    {
     "name": "stdout",
     "output_type": "stream",
     "text": [
      "········\n"
     ]
    },
    {
     "name": "stderr",
     "output_type": "stream",
     "text": [
      " 60%|████████████████████████████████████████████████                                | 6/10 [1:06:40<44:27, 666.78s/it]\n"
     ]
    }
   ],
   "source": [
    "import csv\n",
    "from getpass import getpass\n",
    "from msedge.selenium_tools import Edge,EdgeOptions\n",
    "from tqdm import tqdm\n",
    "from time import sleep\n",
    "from selenium.webdriver.common.by import By\n",
    "from selenium.webdriver.common.keys import Keys\n",
    "from selenium.common.exceptions import NoSuchElementException\n",
    "from selenium.webdriver.support import expected_conditions as EC\n",
    "from selenium.webdriver.support.ui import WebDriverWait\n",
    "\n",
    "def get_tweet_data(card):\n",
    "    username = card.find_element_by_xpath('.//span').text\n",
    "    handle = card.find_element_by_xpath('.//span[contains(text(),\"@\")]').text\n",
    "    try:\n",
    "        postdate = card.find_element_by_xpath('.//time').get_attribute('datetime')\n",
    "    except NoSuchElementException:\n",
    "        return\n",
    "    content = card.find_element_by_xpath('.//div[2]/div[2]/div[2]').text\n",
    "    reply_cnt = card.find_element_by_xpath('.//div[@data-testid=\"reply\"]').text\n",
    "    retweet_cnt = card.find_element_by_xpath('.//div[@data-testid=\"retweet\"]').text\n",
    "    like_cnt = card.find_element_by_xpath('.//div[@data-testid=\"like\"]').text\n",
    "\n",
    "    tweet = (username, handle, postdate, content, reply_cnt, retweet_cnt, like_cnt)\n",
    "    return tweet\n",
    "\n",
    "def get_tweet(tweet_data, tweet_ids, driver):\n",
    "    scrolling = True\n",
    "    tweet_count = 0\n",
    "    last_position = driver.execute_script('return window.pageYOffset')\n",
    "    \n",
    "    while scrolling and tweet_count < 500:\n",
    "        #Pegar tweets\n",
    "        cards = driver.find_elements_by_xpath('//article[@data-testid=\"tweet\"]')\n",
    "        for card in cards[-15:]:\n",
    "            try:\n",
    "                data = get_tweet_data(card)\n",
    "                if data:\n",
    "                    tweet_id = ''.join(data)\n",
    "                    if tweet_id not in tweet_ids:\n",
    "                        tweet_ids.add(tweet_id)\n",
    "                        tweet_data.append(data)\n",
    "                        tweet_count += 1\n",
    "            except:\n",
    "                pass\n",
    "\n",
    "        scroll_attemp = 0\n",
    "        while True:\n",
    "            driver.execute_script('window.scrollTo(0,document.body.scrollHeight)')\n",
    "            sleep(1)\n",
    "\n",
    "            curr_position = driver.execute_script('return window.pageYOffset')\n",
    "            if curr_position == last_position:\n",
    "                scroll_attemp += 1\n",
    "\n",
    "                if scroll_attemp >= 10:\n",
    "                    reason_to_stop = 'scrooling limit reached'\n",
    "                    scrolling = False\n",
    "                    break\n",
    "                else:\n",
    "                    sleep(5)\n",
    "            else:\n",
    "                last_position = curr_position\n",
    "                break\n",
    "       \n",
    "\n",
    "options = EdgeOptions()\n",
    "options.use_chromium = True\n",
    "driver = Edge(options=options)\n",
    "\n",
    "#Navegar na tela de login\n",
    "driver.get('https://twitter.com/i/flow/login')\n",
    "\n",
    "#Espera implícita \n",
    "wait = WebDriverWait(driver, 60)\n",
    "wait.until(EC.visibility_of_element_located((By.XPATH, '//input[@name=\"text\"]')))\n",
    "\n",
    "#Passar nome de usuário\n",
    "username = driver.find_element_by_xpath('//input[@name=\"text\"]')\n",
    "username.send_keys('SousaC20')\n",
    "username.send_keys(Keys.RETURN)\n",
    "\n",
    "wait.until(EC.visibility_of_element_located((By.XPATH, '//input[@name=\"password\"]')))\n",
    "\n",
    "#Passar senha\n",
    "my_password = getpass()\n",
    "password = driver.find_element_by_xpath('//input[@name=\"password\"]')\n",
    "password.send_keys(my_password)\n",
    "password.send_keys(Keys.RETURN)\n",
    "\n",
    "\n",
    "wait = WebDriverWait(driver, 60)\n",
    "wait.until(EC.visibility_of_element_located((By.XPATH, '//input[@aria-label=\"Consulta de busca\"]')))\n",
    "\n",
    "#Pesquisar\n",
    "search_input = driver.find_element_by_xpath('//input[@aria-label=\"Consulta de busca\"]')\n",
    "search_input.send_keys('#Rouanet')\n",
    "search_input.send_keys(Keys.RETURN)\n",
    "\n",
    "wait.until(EC.visibility_of_element_located((By.LINK_TEXT, 'Mais recentes')))\n",
    "\n",
    "#Pegar os tweets mais recents\n",
    "driver.find_element_by_link_text('Mais recentes').click()\n",
    "\n",
    "#Interar sobre cards e extrair os dados\n",
    "wait.until(EC.visibility_of_element_located((By.XPATH, '//article[@data-testid=\"tweet\"]')))\n",
    "\n",
    "tweet_data = []\n",
    "tweet_ids = set()\n",
    "\n",
    "try:\n",
    "    for i in tqdm(range(10)):\n",
    "        get_tweet(tweet_data, tweet_ids, driver)\n",
    "        sleep(4)\n",
    "        \n",
    "        \n",
    "except:\n",
    "    pass\n",
    "\n",
    "    \n",
    "with open('twitter_scraping_result2.csv', 'w', newline = '', encoding = 'utf-8') as f:\n",
    "    header = ['Username', 'Handle', 'Timestamp', 'Text', 'Replys', 'Retweets', 'Likes']\n",
    "    writer = csv.writer(f)\n",
    "    writer.writerow(header)\n",
    "    writer.writerows(tweet_data)\n",
    "\n"
   ]
  },
  {
   "cell_type": "code",
   "execution_count": 19,
   "id": "83c96367",
   "metadata": {
    "scrolled": true
   },
   "outputs": [
    {
     "name": "stderr",
     "output_type": "stream",
     "text": [
      " 60%|█████████████████████████████████████████████████▏                                | 6/10 [29:29<19:39, 294.83s/it]\n"
     ]
    }
   ],
   "source": [
    "try:\n",
    "    for i in tqdm(range(10)):\n",
    "        get_tweet(tweet_data, tweet_ids, driver)\n",
    "        sleep(4)\n",
    "        \n",
    "        \n",
    "except:\n",
    "    pass\n",
    "\n",
    "    \n",
    "with open('twitter_scraping_result2.csv', 'w', newline = '', encoding = 'utf-8') as f:\n",
    "    header = ['Username', 'Handle', 'Timestamp', 'Text', 'Replys', 'Retweets', 'Likes']\n",
    "    writer = csv.writer(f)\n",
    "    writer.writerow(header)\n",
    "    writer.writerows(tweet_data)\n"
   ]
  },
  {
   "cell_type": "code",
   "execution_count": 16,
   "id": "e88fc579",
   "metadata": {},
   "outputs": [
    {
     "data": {
      "text/plain": [
       "1923"
      ]
     },
     "execution_count": 16,
     "metadata": {},
     "output_type": "execute_result"
    }
   ],
   "source": [
    "tweet_count"
   ]
  }
 ],
 "metadata": {
  "kernelspec": {
   "display_name": "Python 3 (ipykernel)",
   "language": "python",
   "name": "python3"
  },
  "language_info": {
   "codemirror_mode": {
    "name": "ipython",
    "version": 3
   },
   "file_extension": ".py",
   "mimetype": "text/x-python",
   "name": "python",
   "nbconvert_exporter": "python",
   "pygments_lexer": "ipython3",
   "version": "3.8.12"
  }
 },
 "nbformat": 4,
 "nbformat_minor": 5
}
